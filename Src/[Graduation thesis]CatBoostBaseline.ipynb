{
 "cells": [
  {
   "cell_type": "markdown",
   "id": "3966af27",
   "metadata": {
    "papermill": {
     "duration": 0.008235,
     "end_time": "2023-05-06T08:54:00.027788",
     "exception": false,
     "start_time": "2023-05-06T08:54:00.019553",
     "status": "completed"
    },
    "tags": []
   },
   "source": [
    "# Catboost Baseline \n",
    "A great idea from Chris: https://www.kaggle.com/code/cdeotte/xgboost-baseline-0-680?scriptVersionId=123110383\n",
    "\n",
    "Thanks to him and all the participants who share their ideas."
   ]
  },
  {
   "cell_type": "code",
   "execution_count": 1,
   "id": "d4decfdc",
   "metadata": {
    "execution": {
     "iopub.execute_input": "2023-05-06T08:54:00.042810Z",
     "iopub.status.busy": "2023-05-06T08:54:00.042032Z",
     "iopub.status.idle": "2023-05-06T08:54:01.504611Z",
     "shell.execute_reply": "2023-05-06T08:54:01.503421Z"
    },
    "papermill": {
     "duration": 1.47332,
     "end_time": "2023-05-06T08:54:01.507549",
     "exception": false,
     "start_time": "2023-05-06T08:54:00.034229",
     "status": "completed"
    },
    "tags": []
   },
   "outputs": [],
   "source": [
    "import pandas as pd, numpy as np, gc\n",
    "from sklearn.model_selection import KFold ,GroupKFold\n",
    "from catboost import CatBoostClassifier, Pool\n",
    "from sklearn.metrics import f1_score"
   ]
  },
  {
   "cell_type": "markdown",
   "id": "6aaac1f8",
   "metadata": {
    "papermill": {
     "duration": 0.005944,
     "end_time": "2023-05-06T08:54:01.519978",
     "exception": false,
     "start_time": "2023-05-06T08:54:01.514034",
     "status": "completed"
    },
    "tags": []
   },
   "source": [
    "# Load Train Data and Labels\n",
    "\n",
    "Instead of working on the total train size is 4.7GB, we shrink it into 10 pieces and the feature engineer will read each piece in order."
   ]
  },
  {
   "cell_type": "code",
   "execution_count": 2,
   "id": "232c31b1",
   "metadata": {
    "_kg_hide-input": true,
    "execution": {
     "iopub.execute_input": "2023-05-06T08:54:01.534558Z",
     "iopub.status.busy": "2023-05-06T08:54:01.533879Z",
     "iopub.status.idle": "2023-05-06T08:55:28.247874Z",
     "shell.execute_reply": "2023-05-06T08:55:28.246849Z"
    },
    "papermill": {
     "duration": 86.72766,
     "end_time": "2023-05-06T08:55:28.253783",
     "exception": false,
     "start_time": "2023-05-06T08:54:01.526123",
     "status": "completed"
    },
    "tags": []
   },
   "outputs": [
    {
     "name": "stdout",
     "output_type": "stream",
     "text": [
      "We do this step to avoid memory error\n"
     ]
    }
   ],
   "source": [
    "tmp = pd.read_csv(\"/kaggle/input/predict-student-performance-from-game-play/train.csv\",usecols=[0])\n",
    "tmp = tmp.groupby('session_id').session_id.agg('count')\n",
    "PIECES = 10\n",
    "CHUNK = int( np.ceil(len(tmp)/PIECES) )\n",
    "\n",
    "reads = []\n",
    "skips = [0]\n",
    "for k in range(PIECES):\n",
    "    a = k*CHUNK\n",
    "    b = (k+1)*CHUNK\n",
    "    if b>len(tmp): b=len(tmp)\n",
    "    r = tmp.iloc[a:b].sum()\n",
    "    reads.append(r)\n",
    "    skips.append(skips[-1]+r)\n",
    "    \n",
    "print(f'We do this step to avoid memory error')"
   ]
  },
  {
   "cell_type": "code",
   "execution_count": 3,
   "id": "9f3f497e",
   "metadata": {
    "execution": {
     "iopub.execute_input": "2023-05-06T08:55:28.268982Z",
     "iopub.status.busy": "2023-05-06T08:55:28.267948Z",
     "iopub.status.idle": "2023-05-06T08:55:35.823808Z",
     "shell.execute_reply": "2023-05-06T08:55:35.822907Z"
    },
    "papermill": {
     "duration": 7.566867,
     "end_time": "2023-05-06T08:55:35.827201",
     "exception": false,
     "start_time": "2023-05-06T08:55:28.260334",
     "status": "completed"
    },
    "tags": []
   },
   "outputs": [
    {
     "name": "stdout",
     "output_type": "stream",
     "text": [
      "Train size of first piece: (2684191, 20)\n"
     ]
    },
    {
     "data": {
      "text/html": [
       "<div>\n",
       "<style scoped>\n",
       "    .dataframe tbody tr th:only-of-type {\n",
       "        vertical-align: middle;\n",
       "    }\n",
       "\n",
       "    .dataframe tbody tr th {\n",
       "        vertical-align: top;\n",
       "    }\n",
       "\n",
       "    .dataframe thead th {\n",
       "        text-align: right;\n",
       "    }\n",
       "</style>\n",
       "<table border=\"1\" class=\"dataframe\">\n",
       "  <thead>\n",
       "    <tr style=\"text-align: right;\">\n",
       "      <th></th>\n",
       "      <th>session_id</th>\n",
       "      <th>index</th>\n",
       "      <th>elapsed_time</th>\n",
       "      <th>event_name</th>\n",
       "      <th>name</th>\n",
       "      <th>level</th>\n",
       "      <th>page</th>\n",
       "      <th>room_coor_x</th>\n",
       "      <th>room_coor_y</th>\n",
       "      <th>screen_coor_x</th>\n",
       "      <th>screen_coor_y</th>\n",
       "      <th>hover_duration</th>\n",
       "      <th>text</th>\n",
       "      <th>fqid</th>\n",
       "      <th>room_fqid</th>\n",
       "      <th>text_fqid</th>\n",
       "      <th>fullscreen</th>\n",
       "      <th>hq</th>\n",
       "      <th>music</th>\n",
       "      <th>level_group</th>\n",
       "    </tr>\n",
       "  </thead>\n",
       "  <tbody>\n",
       "    <tr>\n",
       "      <th>0</th>\n",
       "      <td>20090312431273200</td>\n",
       "      <td>0</td>\n",
       "      <td>0</td>\n",
       "      <td>cutscene_click</td>\n",
       "      <td>basic</td>\n",
       "      <td>0</td>\n",
       "      <td>NaN</td>\n",
       "      <td>-413.991405</td>\n",
       "      <td>-159.314686</td>\n",
       "      <td>380.0</td>\n",
       "      <td>494.0</td>\n",
       "      <td>NaN</td>\n",
       "      <td>undefined</td>\n",
       "      <td>intro</td>\n",
       "      <td>tunic.historicalsociety.closet</td>\n",
       "      <td>tunic.historicalsociety.closet.intro</td>\n",
       "      <td>0</td>\n",
       "      <td>0</td>\n",
       "      <td>1</td>\n",
       "      <td>0-4</td>\n",
       "    </tr>\n",
       "    <tr>\n",
       "      <th>1</th>\n",
       "      <td>20090312431273200</td>\n",
       "      <td>1</td>\n",
       "      <td>1323</td>\n",
       "      <td>person_click</td>\n",
       "      <td>basic</td>\n",
       "      <td>0</td>\n",
       "      <td>NaN</td>\n",
       "      <td>-413.991405</td>\n",
       "      <td>-159.314686</td>\n",
       "      <td>380.0</td>\n",
       "      <td>494.0</td>\n",
       "      <td>NaN</td>\n",
       "      <td>Whatcha doing over there, Jo?</td>\n",
       "      <td>gramps</td>\n",
       "      <td>tunic.historicalsociety.closet</td>\n",
       "      <td>tunic.historicalsociety.closet.gramps.intro_0_...</td>\n",
       "      <td>0</td>\n",
       "      <td>0</td>\n",
       "      <td>1</td>\n",
       "      <td>0-4</td>\n",
       "    </tr>\n",
       "    <tr>\n",
       "      <th>2</th>\n",
       "      <td>20090312431273200</td>\n",
       "      <td>2</td>\n",
       "      <td>831</td>\n",
       "      <td>person_click</td>\n",
       "      <td>basic</td>\n",
       "      <td>0</td>\n",
       "      <td>NaN</td>\n",
       "      <td>-413.991405</td>\n",
       "      <td>-159.314686</td>\n",
       "      <td>380.0</td>\n",
       "      <td>494.0</td>\n",
       "      <td>NaN</td>\n",
       "      <td>Just talking to Teddy.</td>\n",
       "      <td>gramps</td>\n",
       "      <td>tunic.historicalsociety.closet</td>\n",
       "      <td>tunic.historicalsociety.closet.gramps.intro_0_...</td>\n",
       "      <td>0</td>\n",
       "      <td>0</td>\n",
       "      <td>1</td>\n",
       "      <td>0-4</td>\n",
       "    </tr>\n",
       "    <tr>\n",
       "      <th>3</th>\n",
       "      <td>20090312431273200</td>\n",
       "      <td>3</td>\n",
       "      <td>1147</td>\n",
       "      <td>person_click</td>\n",
       "      <td>basic</td>\n",
       "      <td>0</td>\n",
       "      <td>NaN</td>\n",
       "      <td>-413.991405</td>\n",
       "      <td>-159.314686</td>\n",
       "      <td>380.0</td>\n",
       "      <td>494.0</td>\n",
       "      <td>NaN</td>\n",
       "      <td>I gotta run to my meeting!</td>\n",
       "      <td>gramps</td>\n",
       "      <td>tunic.historicalsociety.closet</td>\n",
       "      <td>tunic.historicalsociety.closet.gramps.intro_0_...</td>\n",
       "      <td>0</td>\n",
       "      <td>0</td>\n",
       "      <td>1</td>\n",
       "      <td>0-4</td>\n",
       "    </tr>\n",
       "    <tr>\n",
       "      <th>4</th>\n",
       "      <td>20090312431273200</td>\n",
       "      <td>4</td>\n",
       "      <td>1863</td>\n",
       "      <td>person_click</td>\n",
       "      <td>basic</td>\n",
       "      <td>0</td>\n",
       "      <td>NaN</td>\n",
       "      <td>-412.991405</td>\n",
       "      <td>-159.314686</td>\n",
       "      <td>381.0</td>\n",
       "      <td>494.0</td>\n",
       "      <td>NaN</td>\n",
       "      <td>Can I come, Gramps?</td>\n",
       "      <td>gramps</td>\n",
       "      <td>tunic.historicalsociety.closet</td>\n",
       "      <td>tunic.historicalsociety.closet.gramps.intro_0_...</td>\n",
       "      <td>0</td>\n",
       "      <td>0</td>\n",
       "      <td>1</td>\n",
       "      <td>0-4</td>\n",
       "    </tr>\n",
       "  </tbody>\n",
       "</table>\n",
       "</div>"
      ],
      "text/plain": [
       "          session_id  index  elapsed_time      event_name   name  level  page  \\\n",
       "0  20090312431273200      0             0  cutscene_click  basic      0   NaN   \n",
       "1  20090312431273200      1          1323    person_click  basic      0   NaN   \n",
       "2  20090312431273200      2           831    person_click  basic      0   NaN   \n",
       "3  20090312431273200      3          1147    person_click  basic      0   NaN   \n",
       "4  20090312431273200      4          1863    person_click  basic      0   NaN   \n",
       "\n",
       "   room_coor_x  room_coor_y  screen_coor_x  screen_coor_y  hover_duration  \\\n",
       "0  -413.991405  -159.314686          380.0          494.0             NaN   \n",
       "1  -413.991405  -159.314686          380.0          494.0             NaN   \n",
       "2  -413.991405  -159.314686          380.0          494.0             NaN   \n",
       "3  -413.991405  -159.314686          380.0          494.0             NaN   \n",
       "4  -412.991405  -159.314686          381.0          494.0             NaN   \n",
       "\n",
       "                            text    fqid                       room_fqid  \\\n",
       "0                      undefined   intro  tunic.historicalsociety.closet   \n",
       "1  Whatcha doing over there, Jo?  gramps  tunic.historicalsociety.closet   \n",
       "2         Just talking to Teddy.  gramps  tunic.historicalsociety.closet   \n",
       "3     I gotta run to my meeting!  gramps  tunic.historicalsociety.closet   \n",
       "4            Can I come, Gramps?  gramps  tunic.historicalsociety.closet   \n",
       "\n",
       "                                           text_fqid  fullscreen  hq  music  \\\n",
       "0               tunic.historicalsociety.closet.intro           0   0      1   \n",
       "1  tunic.historicalsociety.closet.gramps.intro_0_...           0   0      1   \n",
       "2  tunic.historicalsociety.closet.gramps.intro_0_...           0   0      1   \n",
       "3  tunic.historicalsociety.closet.gramps.intro_0_...           0   0      1   \n",
       "4  tunic.historicalsociety.closet.gramps.intro_0_...           0   0      1   \n",
       "\n",
       "  level_group  \n",
       "0         0-4  \n",
       "1         0-4  \n",
       "2         0-4  \n",
       "3         0-4  \n",
       "4         0-4  "
      ]
     },
     "execution_count": 3,
     "metadata": {},
     "output_type": "execute_result"
    }
   ],
   "source": [
    "train = pd.read_csv('/kaggle/input/predict-student-performance-from-game-play/train.csv', nrows=reads[0])\n",
    "print('Train size of first piece:', train.shape )\n",
    "train.head()"
   ]
  },
  {
   "cell_type": "code",
   "execution_count": 4,
   "id": "fe7b0cb1",
   "metadata": {
    "execution": {
     "iopub.execute_input": "2023-05-06T08:55:35.843278Z",
     "iopub.status.busy": "2023-05-06T08:55:35.842300Z",
     "iopub.status.idle": "2023-05-06T08:55:37.036367Z",
     "shell.execute_reply": "2023-05-06T08:55:37.034952Z"
    },
    "papermill": {
     "duration": 1.204945,
     "end_time": "2023-05-06T08:55:37.039122",
     "exception": false,
     "start_time": "2023-05-06T08:55:35.834177",
     "status": "completed"
    },
    "tags": []
   },
   "outputs": [
    {
     "name": "stdout",
     "output_type": "stream",
     "text": [
      "(424116, 4)\n"
     ]
    },
    {
     "data": {
      "text/html": [
       "<div>\n",
       "<style scoped>\n",
       "    .dataframe tbody tr th:only-of-type {\n",
       "        vertical-align: middle;\n",
       "    }\n",
       "\n",
       "    .dataframe tbody tr th {\n",
       "        vertical-align: top;\n",
       "    }\n",
       "\n",
       "    .dataframe thead th {\n",
       "        text-align: right;\n",
       "    }\n",
       "</style>\n",
       "<table border=\"1\" class=\"dataframe\">\n",
       "  <thead>\n",
       "    <tr style=\"text-align: right;\">\n",
       "      <th></th>\n",
       "      <th>session_id</th>\n",
       "      <th>correct</th>\n",
       "      <th>session</th>\n",
       "      <th>q</th>\n",
       "    </tr>\n",
       "  </thead>\n",
       "  <tbody>\n",
       "    <tr>\n",
       "      <th>0</th>\n",
       "      <td>20090312431273200_q1</td>\n",
       "      <td>1</td>\n",
       "      <td>20090312431273200</td>\n",
       "      <td>1</td>\n",
       "    </tr>\n",
       "    <tr>\n",
       "      <th>1</th>\n",
       "      <td>20090312433251036_q1</td>\n",
       "      <td>0</td>\n",
       "      <td>20090312433251036</td>\n",
       "      <td>1</td>\n",
       "    </tr>\n",
       "    <tr>\n",
       "      <th>2</th>\n",
       "      <td>20090312455206810_q1</td>\n",
       "      <td>1</td>\n",
       "      <td>20090312455206810</td>\n",
       "      <td>1</td>\n",
       "    </tr>\n",
       "    <tr>\n",
       "      <th>3</th>\n",
       "      <td>20090313091715820_q1</td>\n",
       "      <td>0</td>\n",
       "      <td>20090313091715820</td>\n",
       "      <td>1</td>\n",
       "    </tr>\n",
       "    <tr>\n",
       "      <th>4</th>\n",
       "      <td>20090313571836404_q1</td>\n",
       "      <td>1</td>\n",
       "      <td>20090313571836404</td>\n",
       "      <td>1</td>\n",
       "    </tr>\n",
       "  </tbody>\n",
       "</table>\n",
       "</div>"
      ],
      "text/plain": [
       "             session_id  correct            session  q\n",
       "0  20090312431273200_q1        1  20090312431273200  1\n",
       "1  20090312433251036_q1        0  20090312433251036  1\n",
       "2  20090312455206810_q1        1  20090312455206810  1\n",
       "3  20090313091715820_q1        0  20090313091715820  1\n",
       "4  20090313571836404_q1        1  20090313571836404  1"
      ]
     },
     "execution_count": 4,
     "metadata": {},
     "output_type": "execute_result"
    }
   ],
   "source": [
    "targets = pd.read_csv('/kaggle/input/predict-student-performance-from-game-play/train_labels.csv')\n",
    "targets['session'] = targets.session_id.apply(lambda x: int(x.split('_')[0]) )\n",
    "targets['q'] = targets.session_id.apply(lambda x: int(x.split('_')[-1][1:]) )\n",
    "print( targets.shape )\n",
    "targets.head()"
   ]
  },
  {
   "cell_type": "markdown",
   "id": "cd0f3f1c",
   "metadata": {
    "papermill": {
     "duration": 0.006742,
     "end_time": "2023-05-06T08:55:37.053493",
     "exception": false,
     "start_time": "2023-05-06T08:55:37.046751",
     "status": "completed"
    },
    "tags": []
   },
   "source": [
    "# Feature Engineer\n",
    "We create basic aggregate features. We think event is important factor for prediction.\n",
    "\n",
    "[1]: https://www.kaggle.com/code/kimtaehun/lightgbm-baseline-with-aggregated-log-data"
   ]
  },
  {
   "cell_type": "code",
   "execution_count": 5,
   "id": "ab485ce0",
   "metadata": {
    "execution": {
     "iopub.execute_input": "2023-05-06T08:55:37.070441Z",
     "iopub.status.busy": "2023-05-06T08:55:37.070041Z",
     "iopub.status.idle": "2023-05-06T08:55:37.075397Z",
     "shell.execute_reply": "2023-05-06T08:55:37.074481Z"
    },
    "papermill": {
     "duration": 0.016864,
     "end_time": "2023-05-06T08:55:37.077993",
     "exception": false,
     "start_time": "2023-05-06T08:55:37.061129",
     "status": "completed"
    },
    "tags": []
   },
   "outputs": [],
   "source": [
    "CATS = ['event_name', 'name','fqid', 'room_fqid', 'text_fqid']\n",
    "NUMS = ['elapsed_time','level','page','room_coor_x', 'room_coor_y', 'screen_coor_x', 'screen_coor_y', 'hover_duration']\n",
    "\n",
    "# reference: https://www.kaggle.com/code/kimtaehun/lightgbm-baseline-with-aggregated-log-data\n",
    "EVENTS = ['navigate_click','person_click','cutscene_click','object_click',\n",
    "          'map_hover','notification_click','map_click','observation_click',\n",
    "          'checkpoint']"
   ]
  },
  {
   "cell_type": "code",
   "execution_count": 6,
   "id": "9d3be190",
   "metadata": {
    "execution": {
     "iopub.execute_input": "2023-05-06T08:55:37.094399Z",
     "iopub.status.busy": "2023-05-06T08:55:37.093399Z",
     "iopub.status.idle": "2023-05-06T08:55:37.103739Z",
     "shell.execute_reply": "2023-05-06T08:55:37.102728Z"
    },
    "papermill": {
     "duration": 0.021228,
     "end_time": "2023-05-06T08:55:37.106238",
     "exception": false,
     "start_time": "2023-05-06T08:55:37.085010",
     "status": "completed"
    },
    "tags": []
   },
   "outputs": [],
   "source": [
    "def feature_engineer(train):\n",
    "    \n",
    "    dfs = []\n",
    "    for c in CATS:\n",
    "        tmp = train.groupby(['session_id','level_group'])[c].agg('nunique')\n",
    "        tmp.name = tmp.name + '_nunique'\n",
    "        dfs.append(tmp)\n",
    "    for c in NUMS:\n",
    "        tmp = train.groupby(['session_id','level_group'])[c].agg('mean')\n",
    "        tmp.name = tmp.name + '_mean'\n",
    "        dfs.append(tmp)\n",
    "    for c in NUMS:\n",
    "        tmp = train.groupby(['session_id','level_group'])[c].agg('std')\n",
    "        tmp.name = tmp.name + '_std'\n",
    "        dfs.append(tmp)\n",
    "    for c in EVENTS: \n",
    "        train[c] = (train.event_name == c).astype('int8')\n",
    "    for c in EVENTS + ['elapsed_time']:\n",
    "        tmp = train.groupby(['session_id','level_group'])[c].agg('sum')\n",
    "        tmp.name = tmp.name + '_sum'\n",
    "        dfs.append(tmp)\n",
    "    train = train.drop(EVENTS,axis=1)\n",
    "        \n",
    "    df = pd.concat(dfs,axis=1)\n",
    "    df = df.fillna(-1)\n",
    "    df = df.reset_index()\n",
    "    df = df.set_index('session_id')\n",
    "    return df"
   ]
  },
  {
   "cell_type": "code",
   "execution_count": 7,
   "id": "3580fd8c",
   "metadata": {
    "execution": {
     "iopub.execute_input": "2023-05-06T08:55:37.122552Z",
     "iopub.status.busy": "2023-05-06T08:55:37.121779Z",
     "iopub.status.idle": "2023-05-06T08:55:50.151358Z",
     "shell.execute_reply": "2023-05-06T08:55:50.150045Z"
    },
    "papermill": {
     "duration": 13.040969,
     "end_time": "2023-05-06T08:55:50.154264",
     "exception": false,
     "start_time": "2023-05-06T08:55:37.113295",
     "status": "completed"
    },
    "tags": []
   },
   "outputs": [
    {
     "name": "stdout",
     "output_type": "stream",
     "text": [
      "(7071, 32)\n"
     ]
    }
   ],
   "source": [
    "df_tr = feature_engineer(train)\n",
    "print(df_tr.shape)"
   ]
  },
  {
   "cell_type": "code",
   "execution_count": 8,
   "id": "923327d3",
   "metadata": {
    "execution": {
     "iopub.execute_input": "2023-05-06T08:55:50.170196Z",
     "iopub.status.busy": "2023-05-06T08:55:50.169785Z",
     "iopub.status.idle": "2023-05-06T09:01:57.330751Z",
     "shell.execute_reply": "2023-05-06T09:01:57.329784Z"
    },
    "papermill": {
     "duration": 367.172585,
     "end_time": "2023-05-06T09:01:57.334020",
     "exception": false,
     "start_time": "2023-05-06T08:55:50.161435",
     "status": "completed"
    },
    "tags": []
   },
   "outputs": [
    {
     "name": "stdout",
     "output_type": "stream",
     "text": [
      "Processing train as 10 pieces to avoid memory error... \n",
      "0 , 1 , 2 , 3 , 4 , 5 , 6 , 7 , 8 , 9 , \n",
      "\n",
      "Shape of all train data after feature engineering: (70686, 32)\n",
      "CPU times: user 5min 8s, sys: 18.9 s, total: 5min 27s\n",
      "Wall time: 6min 7s\n"
     ]
    },
    {
     "data": {
      "text/html": [
       "<div>\n",
       "<style scoped>\n",
       "    .dataframe tbody tr th:only-of-type {\n",
       "        vertical-align: middle;\n",
       "    }\n",
       "\n",
       "    .dataframe tbody tr th {\n",
       "        vertical-align: top;\n",
       "    }\n",
       "\n",
       "    .dataframe thead th {\n",
       "        text-align: right;\n",
       "    }\n",
       "</style>\n",
       "<table border=\"1\" class=\"dataframe\">\n",
       "  <thead>\n",
       "    <tr style=\"text-align: right;\">\n",
       "      <th></th>\n",
       "      <th>level_group</th>\n",
       "      <th>event_name_nunique</th>\n",
       "      <th>name_nunique</th>\n",
       "      <th>fqid_nunique</th>\n",
       "      <th>room_fqid_nunique</th>\n",
       "      <th>text_fqid_nunique</th>\n",
       "      <th>elapsed_time_mean</th>\n",
       "      <th>level_mean</th>\n",
       "      <th>page_mean</th>\n",
       "      <th>room_coor_x_mean</th>\n",
       "      <th>...</th>\n",
       "      <th>navigate_click_sum</th>\n",
       "      <th>person_click_sum</th>\n",
       "      <th>cutscene_click_sum</th>\n",
       "      <th>object_click_sum</th>\n",
       "      <th>map_hover_sum</th>\n",
       "      <th>notification_click_sum</th>\n",
       "      <th>map_click_sum</th>\n",
       "      <th>observation_click_sum</th>\n",
       "      <th>checkpoint_sum</th>\n",
       "      <th>elapsed_time_sum</th>\n",
       "    </tr>\n",
       "    <tr>\n",
       "      <th>session_id</th>\n",
       "      <th></th>\n",
       "      <th></th>\n",
       "      <th></th>\n",
       "      <th></th>\n",
       "      <th></th>\n",
       "      <th></th>\n",
       "      <th></th>\n",
       "      <th></th>\n",
       "      <th></th>\n",
       "      <th></th>\n",
       "      <th></th>\n",
       "      <th></th>\n",
       "      <th></th>\n",
       "      <th></th>\n",
       "      <th></th>\n",
       "      <th></th>\n",
       "      <th></th>\n",
       "      <th></th>\n",
       "      <th></th>\n",
       "      <th></th>\n",
       "      <th></th>\n",
       "    </tr>\n",
       "  </thead>\n",
       "  <tbody>\n",
       "    <tr>\n",
       "      <th>20090312431273200</th>\n",
       "      <td>0-4</td>\n",
       "      <td>10</td>\n",
       "      <td>3</td>\n",
       "      <td>30</td>\n",
       "      <td>7</td>\n",
       "      <td>17</td>\n",
       "      <td>8.579356e+04</td>\n",
       "      <td>1.945455</td>\n",
       "      <td>-1.0</td>\n",
       "      <td>7.701275</td>\n",
       "      <td>...</td>\n",
       "      <td>81.0</td>\n",
       "      <td>22.0</td>\n",
       "      <td>28.0</td>\n",
       "      <td>11.0</td>\n",
       "      <td>4.0</td>\n",
       "      <td>8</td>\n",
       "      <td>2.0</td>\n",
       "      <td>4</td>\n",
       "      <td>1</td>\n",
       "      <td>14155937</td>\n",
       "    </tr>\n",
       "    <tr>\n",
       "      <th>20090312431273200</th>\n",
       "      <td>13-22</td>\n",
       "      <td>10</td>\n",
       "      <td>3</td>\n",
       "      <td>49</td>\n",
       "      <td>12</td>\n",
       "      <td>35</td>\n",
       "      <td>1.040601e+06</td>\n",
       "      <td>17.402381</td>\n",
       "      <td>-1.0</td>\n",
       "      <td>-130.347170</td>\n",
       "      <td>...</td>\n",
       "      <td>170.0</td>\n",
       "      <td>123.0</td>\n",
       "      <td>60.0</td>\n",
       "      <td>20.0</td>\n",
       "      <td>14.0</td>\n",
       "      <td>10</td>\n",
       "      <td>6.0</td>\n",
       "      <td>3</td>\n",
       "      <td>1</td>\n",
       "      <td>437052322</td>\n",
       "    </tr>\n",
       "    <tr>\n",
       "      <th>20090312431273200</th>\n",
       "      <td>5-12</td>\n",
       "      <td>10</td>\n",
       "      <td>3</td>\n",
       "      <td>39</td>\n",
       "      <td>11</td>\n",
       "      <td>24</td>\n",
       "      <td>3.572052e+05</td>\n",
       "      <td>8.054054</td>\n",
       "      <td>-1.0</td>\n",
       "      <td>14.306062</td>\n",
       "      <td>...</td>\n",
       "      <td>103.0</td>\n",
       "      <td>104.0</td>\n",
       "      <td>12.0</td>\n",
       "      <td>28.0</td>\n",
       "      <td>9.0</td>\n",
       "      <td>9</td>\n",
       "      <td>8.0</td>\n",
       "      <td>1</td>\n",
       "      <td>1</td>\n",
       "      <td>105732736</td>\n",
       "    </tr>\n",
       "    <tr>\n",
       "      <th>20090312433251036</th>\n",
       "      <td>0-4</td>\n",
       "      <td>11</td>\n",
       "      <td>4</td>\n",
       "      <td>22</td>\n",
       "      <td>6</td>\n",
       "      <td>11</td>\n",
       "      <td>9.763342e+04</td>\n",
       "      <td>1.870504</td>\n",
       "      <td>0.0</td>\n",
       "      <td>-84.045960</td>\n",
       "      <td>...</td>\n",
       "      <td>49.0</td>\n",
       "      <td>18.0</td>\n",
       "      <td>36.0</td>\n",
       "      <td>15.0</td>\n",
       "      <td>3.0</td>\n",
       "      <td>5</td>\n",
       "      <td>3.0</td>\n",
       "      <td>2</td>\n",
       "      <td>1</td>\n",
       "      <td>13571045</td>\n",
       "    </tr>\n",
       "    <tr>\n",
       "      <th>20090312433251036</th>\n",
       "      <td>13-22</td>\n",
       "      <td>11</td>\n",
       "      <td>6</td>\n",
       "      <td>73</td>\n",
       "      <td>16</td>\n",
       "      <td>43</td>\n",
       "      <td>2.498852e+06</td>\n",
       "      <td>17.762529</td>\n",
       "      <td>5.1</td>\n",
       "      <td>-30.762282</td>\n",
       "      <td>...</td>\n",
       "      <td>637.0</td>\n",
       "      <td>145.0</td>\n",
       "      <td>65.0</td>\n",
       "      <td>83.0</td>\n",
       "      <td>186.0</td>\n",
       "      <td>14</td>\n",
       "      <td>45.0</td>\n",
       "      <td>5</td>\n",
       "      <td>1</td>\n",
       "      <td>3241011333</td>\n",
       "    </tr>\n",
       "  </tbody>\n",
       "</table>\n",
       "<p>5 rows × 32 columns</p>\n",
       "</div>"
      ],
      "text/plain": [
       "                  level_group  event_name_nunique  name_nunique  fqid_nunique  \\\n",
       "session_id                                                                      \n",
       "20090312431273200         0-4                  10             3            30   \n",
       "20090312431273200       13-22                  10             3            49   \n",
       "20090312431273200        5-12                  10             3            39   \n",
       "20090312433251036         0-4                  11             4            22   \n",
       "20090312433251036       13-22                  11             6            73   \n",
       "\n",
       "                   room_fqid_nunique  text_fqid_nunique  elapsed_time_mean  \\\n",
       "session_id                                                                   \n",
       "20090312431273200                  7                 17       8.579356e+04   \n",
       "20090312431273200                 12                 35       1.040601e+06   \n",
       "20090312431273200                 11                 24       3.572052e+05   \n",
       "20090312433251036                  6                 11       9.763342e+04   \n",
       "20090312433251036                 16                 43       2.498852e+06   \n",
       "\n",
       "                   level_mean  page_mean  room_coor_x_mean  ...  \\\n",
       "session_id                                                  ...   \n",
       "20090312431273200    1.945455       -1.0          7.701275  ...   \n",
       "20090312431273200   17.402381       -1.0       -130.347170  ...   \n",
       "20090312431273200    8.054054       -1.0         14.306062  ...   \n",
       "20090312433251036    1.870504        0.0        -84.045960  ...   \n",
       "20090312433251036   17.762529        5.1        -30.762282  ...   \n",
       "\n",
       "                   navigate_click_sum  person_click_sum  cutscene_click_sum  \\\n",
       "session_id                                                                    \n",
       "20090312431273200                81.0              22.0                28.0   \n",
       "20090312431273200               170.0             123.0                60.0   \n",
       "20090312431273200               103.0             104.0                12.0   \n",
       "20090312433251036                49.0              18.0                36.0   \n",
       "20090312433251036               637.0             145.0                65.0   \n",
       "\n",
       "                   object_click_sum  map_hover_sum  notification_click_sum  \\\n",
       "session_id                                                                   \n",
       "20090312431273200              11.0            4.0                       8   \n",
       "20090312431273200              20.0           14.0                      10   \n",
       "20090312431273200              28.0            9.0                       9   \n",
       "20090312433251036              15.0            3.0                       5   \n",
       "20090312433251036              83.0          186.0                      14   \n",
       "\n",
       "                   map_click_sum  observation_click_sum  checkpoint_sum  \\\n",
       "session_id                                                                \n",
       "20090312431273200            2.0                      4               1   \n",
       "20090312431273200            6.0                      3               1   \n",
       "20090312431273200            8.0                      1               1   \n",
       "20090312433251036            3.0                      2               1   \n",
       "20090312433251036           45.0                      5               1   \n",
       "\n",
       "                   elapsed_time_sum  \n",
       "session_id                           \n",
       "20090312431273200          14155937  \n",
       "20090312431273200         437052322  \n",
       "20090312431273200         105732736  \n",
       "20090312433251036          13571045  \n",
       "20090312433251036        3241011333  \n",
       "\n",
       "[5 rows x 32 columns]"
      ]
     },
     "execution_count": 8,
     "metadata": {},
     "output_type": "execute_result"
    }
   ],
   "source": [
    "%%time\n",
    "\n",
    "# PROCESS TRAIN DATA IN PIECES\n",
    "all_pieces = []\n",
    "print(f'Processing train as {PIECES} pieces to avoid memory error... ')\n",
    "for k in range(PIECES):\n",
    "    print(k,', ',end='')\n",
    "    SKIPS = 0\n",
    "    if k>0: SKIPS = range(1,skips[k]+1)\n",
    "    train = pd.read_csv('/kaggle/input/predict-student-performance-from-game-play/train.csv',\n",
    "                        nrows=reads[k], skiprows=SKIPS)\n",
    "    df = feature_engineer(train)\n",
    "    all_pieces.append(df)\n",
    "    \n",
    "# CONCATENATE ALL PIECES\n",
    "print('\\n')\n",
    "del train; gc.collect()\n",
    "df = pd.concat(all_pieces, axis=0)\n",
    "print('Shape of all train data after feature engineering:', df.shape )\n",
    "df.head()"
   ]
  },
  {
   "cell_type": "markdown",
   "id": "355a6901",
   "metadata": {
    "papermill": {
     "duration": 0.00815,
     "end_time": "2023-05-06T09:01:57.350577",
     "exception": false,
     "start_time": "2023-05-06T09:01:57.342427",
     "status": "completed"
    },
    "tags": []
   },
   "source": [
    "# Train XGBoost Model\n",
    "For each of the 18 questions, we train one model. In addition, we use data from `level_groups = '0-4'`. to train the model for questions 1-3, `level groups '5-12'` to train questions 4-13, and `level groups '13-22'` to train questions 14-18. Because this is the data we acquire from Kaggle's inference API during test inference (to predict corresponding questions). We may improve our model by preserving a user's historical data from previous `level_groups` and utilizing it to forecast future `level_groups`."
   ]
  },
  {
   "cell_type": "code",
   "execution_count": 9,
   "id": "78891c94",
   "metadata": {
    "execution": {
     "iopub.execute_input": "2023-05-06T09:01:57.369317Z",
     "iopub.status.busy": "2023-05-06T09:01:57.368912Z",
     "iopub.status.idle": "2023-05-06T09:01:57.379663Z",
     "shell.execute_reply": "2023-05-06T09:01:57.378818Z"
    },
    "papermill": {
     "duration": 0.023061,
     "end_time": "2023-05-06T09:01:57.381904",
     "exception": false,
     "start_time": "2023-05-06T09:01:57.358843",
     "status": "completed"
    },
    "tags": []
   },
   "outputs": [
    {
     "name": "stdout",
     "output_type": "stream",
     "text": [
      "We will train with 31 features\n",
      "We will train with 23562 users info\n"
     ]
    }
   ],
   "source": [
    "FEATURES = [c for c in df.columns if c != 'level_group']\n",
    "print('We will train with', len(FEATURES) ,'features')\n",
    "ALL_USERS = df.index.unique()\n",
    "print('We will train with', len(ALL_USERS) ,'users info')"
   ]
  },
  {
   "cell_type": "code",
   "execution_count": 10,
   "id": "80888bd8",
   "metadata": {
    "execution": {
     "iopub.execute_input": "2023-05-06T09:01:57.400727Z",
     "iopub.status.busy": "2023-05-06T09:01:57.399979Z",
     "iopub.status.idle": "2023-05-06T09:05:54.799378Z",
     "shell.execute_reply": "2023-05-06T09:05:54.798290Z"
    },
    "papermill": {
     "duration": 237.420244,
     "end_time": "2023-05-06T09:05:54.810527",
     "exception": false,
     "start_time": "2023-05-06T09:01:57.390283",
     "status": "completed"
    },
    "tags": []
   },
   "outputs": [
    {
     "name": "stdout",
     "output_type": "stream",
     "text": [
      "#########################\n",
      "### Fold 1\n",
      "#########################\n",
      "\n",
      "#########################\n",
      "### Fold 2\n",
      "#########################\n",
      "\n",
      "#########################\n",
      "### Fold 3\n",
      "#########################\n",
      "\n",
      "#########################\n",
      "### Fold 4\n",
      "#########################\n",
      "\n",
      "#########################\n",
      "### Fold 5\n",
      "#########################\n",
      "\n"
     ]
    }
   ],
   "source": [
    "gkf = GroupKFold(n_splits=5)\n",
    "oof = pd.DataFrame(data=np.zeros((len(ALL_USERS),18)), index=ALL_USERS)\n",
    "models = {}\n",
    "\n",
    "# COMPUTE CV SCORE WITH 5 GROUP K FOLD\n",
    "for i, (train_index, test_index) in enumerate(gkf.split(X=df, groups=df.index)):\n",
    "    print('#'*25)\n",
    "    print('### Fold',i+1)\n",
    "    print('#'*25)\n",
    "    \n",
    "    catboost_params = {\n",
    "    'iterations' : 1000,\n",
    "    'early_stopping_rounds' : 50,\n",
    "    'depth' : 4,\n",
    "    'learning_rate' : 0.05,\n",
    "    'loss_function' : 'Logloss',\n",
    "    'random_seed' : 0,\n",
    "    'metric_period' : 1,\n",
    "    'subsample' : 0.8,\n",
    "    'colsample_bylevel' : 0.4,\n",
    "    'verbose' : 0,\n",
    "    }\n",
    "    \n",
    "    #'use_label_encoder' : False}\n",
    "    \n",
    "    # ITERATE THRU QUESTIONS 1 THRU 18\n",
    "    for t in range(1,19):\n",
    "        \n",
    "        # USE THIS TRAIN DATA WITH THESE QUESTIONS\n",
    "        if t<=3: grp = '0-4'\n",
    "        elif t<=13: grp = '5-12'\n",
    "        elif t<=22: grp = '13-22'\n",
    "            \n",
    "        # TRAIN DATA\n",
    "        train_x = df.iloc[train_index]\n",
    "        train_x = train_x.loc[train_x.level_group == grp]\n",
    "        train_users = train_x.index.values\n",
    "        train_y = targets.loc[targets.q==t].set_index('session').loc[train_users]\n",
    "        \n",
    "        # VALID DATA\n",
    "        valid_x = df.iloc[test_index]\n",
    "        valid_x = valid_x.loc[valid_x.level_group == grp]\n",
    "        valid_users = valid_x.index.values\n",
    "        valid_y = targets.loc[targets.q==t].set_index('session').loc[valid_users]\n",
    "        \n",
    "        # TRAIN MODEL        \n",
    "        clf =  CatBoostClassifier(**catboost_params)\n",
    "        clf.fit(train_x[FEATURES].astype('float32'), train_y['correct'],\n",
    "                eval_set=[ (valid_x[FEATURES].astype('float32'), valid_y['correct']) ],\n",
    "                verbose=0)\n",
    "       # print(f'{t}({clf.best_ntree_limit}), ',end='')\n",
    "        \n",
    "        # SAVE MODEL, PREDICT VALID OOF\n",
    "        models[f'{grp}_{t}'] = clf\n",
    "        oof.loc[valid_users, t-1] = clf.predict_proba(valid_x[FEATURES].astype('float32'))[:,1]\n",
    "        \n",
    "    print()"
   ]
  },
  {
   "cell_type": "markdown",
   "id": "c0a12ff7",
   "metadata": {
    "papermill": {
     "duration": 0.013424,
     "end_time": "2023-05-06T09:05:54.843055",
     "exception": false,
     "start_time": "2023-05-06T09:05:54.829631",
     "status": "completed"
    },
    "tags": []
   },
   "source": [
    "# Compute CV Score\n",
    "Prediction probabilities must be converted into '1s' and '0s'. The F1 Score, which is the harmonic mean of precision and recall, is the competition metric. To maximize F1 Score, identify the appropriate threshold for 'p > threshold' when to forecast '1' and when to predict '0'."
   ]
  },
  {
   "cell_type": "code",
   "execution_count": 11,
   "id": "a4193dc8",
   "metadata": {
    "execution": {
     "iopub.execute_input": "2023-05-06T09:05:54.863522Z",
     "iopub.status.busy": "2023-05-06T09:05:54.862684Z",
     "iopub.status.idle": "2023-05-06T09:05:55.001559Z",
     "shell.execute_reply": "2023-05-06T09:05:55.000519Z"
    },
    "papermill": {
     "duration": 0.152187,
     "end_time": "2023-05-06T09:05:55.004147",
     "exception": false,
     "start_time": "2023-05-06T09:05:54.851960",
     "status": "completed"
    },
    "tags": []
   },
   "outputs": [],
   "source": [
    "true = oof.copy()\n",
    "for k in range(18):\n",
    "    tmp = targets.loc[targets.q == k+1].set_index('session').loc[ALL_USERS]\n",
    "    true[k] = tmp.correct.values"
   ]
  },
  {
   "cell_type": "code",
   "execution_count": 12,
   "id": "589e5a7d",
   "metadata": {
    "execution": {
     "iopub.execute_input": "2023-05-06T09:05:55.024138Z",
     "iopub.status.busy": "2023-05-06T09:05:55.023435Z",
     "iopub.status.idle": "2023-05-06T09:06:01.557465Z",
     "shell.execute_reply": "2023-05-06T09:06:01.556245Z"
    },
    "papermill": {
     "duration": 6.547228,
     "end_time": "2023-05-06T09:06:01.560410",
     "exception": false,
     "start_time": "2023-05-06T09:05:55.013182",
     "status": "completed"
    },
    "tags": []
   },
   "outputs": [
    {
     "name": "stdout",
     "output_type": "stream",
     "text": [
      "0.40, 0.41, 0.42, 0.43, 0.44, 0.45, 0.46, 0.47, 0.48, 0.49, 0.50, 0.51, 0.52, 0.53, 0.54, 0.55, 0.56, 0.57, 0.58, 0.59, 0.60, 0.61, 0.62, 0.63, 0.64, 0.65, 0.66, 0.67, 0.68, 0.69, 0.70, 0.71, 0.72, 0.73, 0.74, 0.75, 0.76, 0.77, 0.78, 0.79, 0.80, \tbest threshold =  0.6300000000000002\n"
     ]
    }
   ],
   "source": [
    "scores = []; thresholds = []\n",
    "best_score = 0; best_threshold = 0\n",
    "\n",
    "for threshold in np.arange(0.4,0.81,0.01):\n",
    "    print(f'{threshold:.02f}, ',end='')\n",
    "    preds = (oof.values.reshape((-1))>threshold).astype('int')\n",
    "    m = f1_score(true.values.reshape((-1)), preds, average='macro')   \n",
    "    scores.append(m)\n",
    "    thresholds.append(threshold)\n",
    "    if m>best_score:\n",
    "        best_score = m\n",
    "        best_threshold = threshold\n",
    "\n",
    "\n",
    "print('\\tbest threshold = ',best_threshold)"
   ]
  },
  {
   "cell_type": "code",
   "execution_count": 13,
   "id": "182be66d",
   "metadata": {
    "execution": {
     "iopub.execute_input": "2023-05-06T09:06:01.582896Z",
     "iopub.status.busy": "2023-05-06T09:06:01.582467Z",
     "iopub.status.idle": "2023-05-06T09:06:01.885129Z",
     "shell.execute_reply": "2023-05-06T09:06:01.884179Z"
    },
    "papermill": {
     "duration": 0.317716,
     "end_time": "2023-05-06T09:06:01.888423",
     "exception": false,
     "start_time": "2023-05-06T09:06:01.570707",
     "status": "completed"
    },
    "tags": []
   },
   "outputs": [
    {
     "data": {
      "image/png": "[encoded data removed]",
      "text/plain": [
       "<Figure size 2000x500 with 1 Axes>"
      ]
     },
     "metadata": {},
     "output_type": "display_data"
    }
   ],
   "source": [
    "import matplotlib.pyplot as plt\n",
    "\n",
    "plt.figure(figsize=(20,5))\n",
    "plt.plot(thresholds,scores,'-o',color='blue')\n",
    "plt.scatter([best_threshold], [best_score], color='blue', s=300, alpha=1)\n",
    "plt.xlabel('Threshold',size=14)\n",
    "plt.ylabel('Validation F1 Score',size=14)\n",
    "plt.title(f'Threshold vs. F1_Score with Best F1_Score = {best_score:.3f} at Best Threshold = {best_threshold:.3}',size=18)\n",
    "plt.show()"
   ]
  },
  {
   "cell_type": "markdown",
   "id": "87951005",
   "metadata": {
    "papermill": {
     "duration": 0.011037,
     "end_time": "2023-05-06T09:06:01.910536",
     "exception": false,
     "start_time": "2023-05-06T09:06:01.899499",
     "status": "completed"
    },
    "tags": []
   },
   "source": [
    "# As a result \n",
    "We will compute an F1 score for each question and an overall F1 score for all data."
   ]
  },
  {
   "cell_type": "code",
   "execution_count": 14,
   "id": "846d82e6",
   "metadata": {
    "execution": {
     "iopub.execute_input": "2023-05-06T09:06:01.934230Z",
     "iopub.status.busy": "2023-05-06T09:06:01.933796Z",
     "iopub.status.idle": "2023-05-06T09:06:02.255394Z",
     "shell.execute_reply": "2023-05-06T09:06:02.254392Z"
    },
    "papermill": {
     "duration": 0.336443,
     "end_time": "2023-05-06T09:06:02.257864",
     "exception": false,
     "start_time": "2023-05-06T09:06:01.921421",
     "status": "completed"
    },
    "tags": []
   },
   "outputs": [
    {
     "name": "stdout",
     "output_type": "stream",
     "text": [
      "Applying the best threshold for each question...\n",
      "Q0: F1 = 0.6062915715408699\n",
      "Q1: F1 = 0.49463795470144134\n",
      "Q2: F1 = 0.4892028184734972\n",
      "Q3: F1 = 0.6208933692267571\n",
      "Q4: F1 = 0.5813911553833416\n",
      "Q5: F1 = 0.6116722468935181\n",
      "Q6: F1 = 0.5895144526879061\n",
      "Q7: F1 = 0.5457090626660517\n",
      "Q8: F1 = 0.6024424500042129\n",
      "Q9: F1 = 0.5230592093003936\n",
      "Q10: F1 = 0.5908909954015499\n",
      "Q11: F1 = 0.49601692174022705\n",
      "Q12: F1 = 0.4350465690257852\n",
      "Q13: F1 = 0.6106735092949657\n",
      "Q14: F1 = 0.5170799200016288\n",
      "Q15: F1 = 0.45732876145904505\n",
      "Q16: F1 = 0.5366354773097215\n",
      "Q17: F1 = 0.49409516629808353\n",
      "==> Overall F1 = 0.6799114893311226\n"
     ]
    }
   ],
   "source": [
    "print('Applying the best threshold for each question...')\n",
    "for k in range(18):   \n",
    "    \n",
    "    m = f1_score(true[k].values, (oof[k].values>best_threshold).astype('int'), average='macro')\n",
    "    print(f'Q{k}: F1 =',m)\n",
    "    \n",
    "m = f1_score(true.values.reshape((-1)), (oof.values.reshape((-1))>best_threshold).astype('int'), average='macro')\n",
    "print('==> Overall F1 =',m)"
   ]
  },
  {
   "cell_type": "markdown",
   "id": "37a5bf4b",
   "metadata": {
    "papermill": {
     "duration": 0.010628,
     "end_time": "2023-05-06T09:06:02.279864",
     "exception": false,
     "start_time": "2023-05-06T09:06:02.269236",
     "status": "completed"
    },
    "tags": []
   },
   "source": [
    "# Infer Test Data"
   ]
  },
  {
   "cell_type": "code",
   "execution_count": 15,
   "id": "72d6c6b4",
   "metadata": {
    "execution": {
     "iopub.execute_input": "2023-05-06T09:06:02.304585Z",
     "iopub.status.busy": "2023-05-06T09:06:02.303834Z",
     "iopub.status.idle": "2023-05-06T09:06:02.480952Z",
     "shell.execute_reply": "2023-05-06T09:06:02.479699Z"
    },
    "papermill": {
     "duration": 0.192647,
     "end_time": "2023-05-06T09:06:02.483665",
     "exception": false,
     "start_time": "2023-05-06T09:06:02.291018",
     "status": "completed"
    },
    "tags": []
   },
   "outputs": [],
   "source": [
    "# IMPORT KAGGLE API\n",
    "import jo_wilder\n",
    "env = jo_wilder.make_env()\n",
    "iter_test = env.iter_test()\n",
    "\n",
    "# CLEAR MEMORY\n",
    "import gc\n",
    "del targets, df, oof, true\n",
    "_ = gc.collect()"
   ]
  },
  {
   "cell_type": "code",
   "execution_count": 16,
   "id": "9f6d20a7",
   "metadata": {
    "execution": {
     "iopub.execute_input": "2023-05-06T09:06:02.508051Z",
     "iopub.status.busy": "2023-05-06T09:06:02.507340Z",
     "iopub.status.idle": "2023-05-06T09:06:03.293020Z",
     "shell.execute_reply": "2023-05-06T09:06:03.292024Z"
    },
    "papermill": {
     "duration": 0.800951,
     "end_time": "2023-05-06T09:06:03.295725",
     "exception": false,
     "start_time": "2023-05-06T09:06:02.494774",
     "status": "completed"
    },
    "tags": []
   },
   "outputs": [
    {
     "name": "stdout",
     "output_type": "stream",
     "text": [
      "This version of the API is not optimized and should not be used to estimate the runtime of your code on the hidden test set.\n"
     ]
    }
   ],
   "source": [
    "limits = {'0-4':(1,4), '5-12':(4,14), '13-22':(14,19)}\n",
    "\n",
    "for (test, sample_submission) in iter_test:\n",
    "    \n",
    "    # FEATURE ENGINEER TEST DATA\n",
    "    df = feature_engineer(test)\n",
    "    \n",
    "    # INFER TEST DATA\n",
    "    grp = test.level_group.values[0]\n",
    "    a,b = limits[grp]\n",
    "    for t in range(a,b):\n",
    "        clf = models[f'{grp}_{t}']\n",
    "        p = clf.predict_proba(df[FEATURES].astype('float32'))[0,1]\n",
    "        mask = sample_submission.session_id.str.contains(f'q{t}')\n",
    "        sample_submission.loc[mask,'correct'] = int( p > best_threshold )\n",
    "    \n",
    "    env.predict(sample_submission)"
   ]
  },
  {
   "cell_type": "markdown",
   "id": "122bf2bd",
   "metadata": {
    "papermill": {
     "duration": 0.011176,
     "end_time": "2023-05-06T09:06:03.318233",
     "exception": false,
     "start_time": "2023-05-06T09:06:03.307057",
     "status": "completed"
    },
    "tags": []
   },
   "source": [
    "# EDA submission.csv"
   ]
  },
  {
   "cell_type": "code",
   "execution_count": 17,
   "id": "247d15c2",
   "metadata": {
    "execution": {
     "iopub.execute_input": "2023-05-06T09:06:03.342738Z",
     "iopub.status.busy": "2023-05-06T09:06:03.342317Z",
     "iopub.status.idle": "2023-05-06T09:06:03.355043Z",
     "shell.execute_reply": "2023-05-06T09:06:03.354027Z"
    },
    "papermill": {
     "duration": 0.029691,
     "end_time": "2023-05-06T09:06:03.359495",
     "exception": false,
     "start_time": "2023-05-06T09:06:03.329804",
     "status": "completed"
    },
    "tags": []
   },
   "outputs": [
    {
     "name": "stdout",
     "output_type": "stream",
     "text": [
      "(54, 2)\n"
     ]
    },
    {
     "data": {
      "text/html": [
       "<div>\n",
       "<style scoped>\n",
       "    .dataframe tbody tr th:only-of-type {\n",
       "        vertical-align: middle;\n",
       "    }\n",
       "\n",
       "    .dataframe tbody tr th {\n",
       "        vertical-align: top;\n",
       "    }\n",
       "\n",
       "    .dataframe thead th {\n",
       "        text-align: right;\n",
       "    }\n",
       "</style>\n",
       "<table border=\"1\" class=\"dataframe\">\n",
       "  <thead>\n",
       "    <tr style=\"text-align: right;\">\n",
       "      <th></th>\n",
       "      <th>session_id</th>\n",
       "      <th>correct</th>\n",
       "    </tr>\n",
       "  </thead>\n",
       "  <tbody>\n",
       "    <tr>\n",
       "      <th>0</th>\n",
       "      <td>20090109393214576_q1</td>\n",
       "      <td>1</td>\n",
       "    </tr>\n",
       "    <tr>\n",
       "      <th>1</th>\n",
       "      <td>20090109393214576_q2</td>\n",
       "      <td>1</td>\n",
       "    </tr>\n",
       "    <tr>\n",
       "      <th>2</th>\n",
       "      <td>20090109393214576_q3</td>\n",
       "      <td>1</td>\n",
       "    </tr>\n",
       "    <tr>\n",
       "      <th>3</th>\n",
       "      <td>20090109393214576_q4</td>\n",
       "      <td>1</td>\n",
       "    </tr>\n",
       "    <tr>\n",
       "      <th>4</th>\n",
       "      <td>20090109393214576_q5</td>\n",
       "      <td>0</td>\n",
       "    </tr>\n",
       "  </tbody>\n",
       "</table>\n",
       "</div>"
      ],
      "text/plain": [
       "             session_id  correct\n",
       "0  20090109393214576_q1        1\n",
       "1  20090109393214576_q2        1\n",
       "2  20090109393214576_q3        1\n",
       "3  20090109393214576_q4        1\n",
       "4  20090109393214576_q5        0"
      ]
     },
     "execution_count": 17,
     "metadata": {},
     "output_type": "execute_result"
    }
   ],
   "source": [
    "df = pd.read_csv('submission.csv')\n",
    "print( df.shape )\n",
    "df.head()"
   ]
  },
  {
   "cell_type": "code",
   "execution_count": 18,
   "id": "54bddae2",
   "metadata": {
    "execution": {
     "iopub.execute_input": "2023-05-06T09:06:03.383959Z",
     "iopub.status.busy": "2023-05-06T09:06:03.383564Z",
     "iopub.status.idle": "2023-05-06T09:06:03.389120Z",
     "shell.execute_reply": "2023-05-06T09:06:03.388257Z"
    },
    "papermill": {
     "duration": 0.020904,
     "end_time": "2023-05-06T09:06:03.391798",
     "exception": false,
     "start_time": "2023-05-06T09:06:03.370894",
     "status": "completed"
    },
    "tags": []
   },
   "outputs": [
    {
     "name": "stdout",
     "output_type": "stream",
     "text": [
      "0.5555555555555556\n"
     ]
    }
   ],
   "source": [
    "print(df.correct.mean())"
   ]
  }
 ],
 "metadata": {
  "kernelspec": {
   "display_name": "Python 3",
   "language": "python",
   "name": "python3"
  },
  "language_info": {
   "codemirror_mode": {
    "name": "ipython",
    "version": 3
   },
   "file_extension": ".py",
   "mimetype": "text/x-python",
   "name": "python",
   "nbconvert_exporter": "python",
   "pygments_lexer": "ipython3",
   "version": "3.7.12"
  },
  "papermill": {
   "default_parameters": {},
   "duration": 734.076243,
   "end_time": "2023-05-06T09:06:04.529911",
   "environment_variables": {},
   "exception": null,
   "input_path": "__notebook__.ipynb",
   "output_path": "__notebook__.ipynb",
   "parameters": {},
   "start_time": "2023-05-06T08:53:50.453668",
   "version": "2.3.4"
  }
 },
 "nbformat": 4,
 "nbformat_minor": 5
}
